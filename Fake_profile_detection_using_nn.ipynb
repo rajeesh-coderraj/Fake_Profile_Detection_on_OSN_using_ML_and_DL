{
 "cells": [
  {
   "cell_type": "code",
   "execution_count": null,
   "metadata": {},
   "outputs": [],
   "source": []
  },
  {
   "cell_type": "markdown",
   "metadata": {},
   "source": [
    "# Detection of Fake / Real Profiles\n",
    "\n",
    "## Neural Network"
   ]
  },
  {
   "cell_type": "markdown",
   "metadata": {},
   "source": [
    "Import libraries"
   ]
  },
  {
   "cell_type": "code",
   "execution_count": 1,
   "metadata": {},
   "outputs": [],
   "source": [
    "import pandas as pd\n",
    "import matplotlib\n",
    "matplotlib.use('TkAgg')\n",
    "import matplotlib.pyplot as plt\n",
    "import numpy as np\n",
    "import pickle \n",
    "\n",
    "import pandas_profiling as pp\n",
    "from pandas_profiling import ProfileReport\n",
    "import keras as k\n",
    "from sklearn.model_selection import train_test_split\n",
    "import keras\n",
    "from keras import regularizers\n",
    "from keras.models import Sequential,model_from_json\n",
    "from keras.layers import Dense, Dropout, Activation\n",
    "from keras import optimizers\n",
    "from numpy.random import seed\n",
    "seed(1)"
   ]
  },
  {
   "cell_type": "markdown",
   "metadata": {},
   "source": [
    "Import Datasets"
   ]
  },
  {
   "cell_type": "code",
   "execution_count": 2,
   "metadata": {},
   "outputs": [],
   "source": [
    "\n",
    "df_users = pd.read_csv(\"F:/New folder/Fake_Profile_Detection_using_ML_and_dd/data/users.csv\")\n",
    "    #print(\"\\nFake Dataset\\n\")\n",
    "df_fusers = pd.read_csv(\"F:/New folder/Fake_Profile_Detection_using_ML_and_dd/data/Fusers.csv\")"
   ]
  },
  {
   "cell_type": "markdown",
   "metadata": {},
   "source": [
    "Displays the columns of fake users"
   ]
  },
  {
   "cell_type": "code",
   "execution_count": 3,
   "metadata": {},
   "outputs": [
    {
     "data": {
      "text/plain": [
       "(1337, 34)"
      ]
     },
     "execution_count": 3,
     "metadata": {},
     "output_type": "execute_result"
    }
   ],
   "source": [
    "df_fusers.shape"
   ]
  },
  {
   "cell_type": "markdown",
   "metadata": {},
   "source": [
    "Display the columns of Real Users"
   ]
  },
  {
   "cell_type": "code",
   "execution_count": 4,
   "metadata": {},
   "outputs": [
    {
     "data": {
      "text/plain": [
       "(1481, 34)"
      ]
     },
     "execution_count": 4,
     "metadata": {},
     "output_type": "execute_result"
    }
   ],
   "source": [
    "df_users.shape"
   ]
  },
  {
   "cell_type": "markdown",
   "metadata": {},
   "source": [
    "Assign the each values to the varible based on Status"
   ]
  },
  {
   "cell_type": "code",
   "execution_count": 5,
   "metadata": {},
   "outputs": [],
   "source": [
    "#for dataframe_users\n",
    "isNotFake = np.zeros(1481)\n",
    "\n",
    "#for dataframe_fusers\n",
    "isFake = np.ones(1337)"
   ]
  },
  {
   "cell_type": "code",
   "execution_count": 6,
   "metadata": {},
   "outputs": [],
   "source": [
    "#adding is fake or not column to make predictions for it\n",
    "df_fusers[\"isFake\"] = isFake\n",
    "df_users[\"isFake\"] = isNotFake"
   ]
  },
  {
   "cell_type": "code",
   "execution_count": 7,
   "metadata": {},
   "outputs": [],
   "source": [
    "df_allUsers = pd.concat([df_fusers, df_users], ignore_index=True)\n",
    "df_allUsers.columns = df_allUsers.columns.str.strip()"
   ]
  },
  {
   "cell_type": "code",
   "execution_count": 8,
   "metadata": {},
   "outputs": [],
   "source": [
    "#to shuffle the whole data\n",
    "df_allUsers = df_allUsers.sample(frac=1).reset_index(drop=True)"
   ]
  },
  {
   "cell_type": "code",
   "execution_count": 9,
   "metadata": {},
   "outputs": [
    {
     "data": {
      "text/html": [
       "<div>\n",
       "<style scoped>\n",
       "    .dataframe tbody tr th:only-of-type {\n",
       "        vertical-align: middle;\n",
       "    }\n",
       "\n",
       "    .dataframe tbody tr th {\n",
       "        vertical-align: top;\n",
       "    }\n",
       "\n",
       "    .dataframe thead th {\n",
       "        text-align: right;\n",
       "    }\n",
       "</style>\n",
       "<table border=\"1\" class=\"dataframe\">\n",
       "  <thead>\n",
       "    <tr style=\"text-align: right;\">\n",
       "      <th></th>\n",
       "      <th>id</th>\n",
       "      <th>statuses_count</th>\n",
       "      <th>followers_count</th>\n",
       "      <th>friends_count</th>\n",
       "      <th>favourites_count</th>\n",
       "      <th>listed_count</th>\n",
       "      <th>default_profile</th>\n",
       "      <th>default_profile_image</th>\n",
       "      <th>geo_enabled</th>\n",
       "      <th>profile_use_background_image</th>\n",
       "      <th>profile_background_tile</th>\n",
       "      <th>utc_offset</th>\n",
       "      <th>protected</th>\n",
       "      <th>verified</th>\n",
       "      <th>isFake</th>\n",
       "    </tr>\n",
       "  </thead>\n",
       "  <tbody>\n",
       "    <tr>\n",
       "      <th>count</th>\n",
       "      <td>2.818000e+03</td>\n",
       "      <td>2818.000000</td>\n",
       "      <td>2818.000000</td>\n",
       "      <td>2818.000000</td>\n",
       "      <td>2818.000000</td>\n",
       "      <td>2818.000000</td>\n",
       "      <td>1728.0</td>\n",
       "      <td>8.0</td>\n",
       "      <td>721.0</td>\n",
       "      <td>2760.0</td>\n",
       "      <td>489.0</td>\n",
       "      <td>1069.000000</td>\n",
       "      <td>0.0</td>\n",
       "      <td>0.0</td>\n",
       "      <td>2818.000000</td>\n",
       "    </tr>\n",
       "    <tr>\n",
       "      <th>mean</th>\n",
       "      <td>5.374889e+08</td>\n",
       "      <td>1672.198368</td>\n",
       "      <td>371.105039</td>\n",
       "      <td>395.363023</td>\n",
       "      <td>234.541164</td>\n",
       "      <td>2.818666</td>\n",
       "      <td>1.0</td>\n",
       "      <td>1.0</td>\n",
       "      <td>1.0</td>\n",
       "      <td>1.0</td>\n",
       "      <td>1.0</td>\n",
       "      <td>1478.391020</td>\n",
       "      <td>NaN</td>\n",
       "      <td>NaN</td>\n",
       "      <td>0.474450</td>\n",
       "    </tr>\n",
       "    <tr>\n",
       "      <th>std</th>\n",
       "      <td>2.977005e+08</td>\n",
       "      <td>4884.669157</td>\n",
       "      <td>8022.631339</td>\n",
       "      <td>465.694322</td>\n",
       "      <td>1445.847248</td>\n",
       "      <td>23.480430</td>\n",
       "      <td>0.0</td>\n",
       "      <td>0.0</td>\n",
       "      <td>0.0</td>\n",
       "      <td>0.0</td>\n",
       "      <td>0.0</td>\n",
       "      <td>8108.211889</td>\n",
       "      <td>NaN</td>\n",
       "      <td>NaN</td>\n",
       "      <td>0.499435</td>\n",
       "    </tr>\n",
       "    <tr>\n",
       "      <th>min</th>\n",
       "      <td>3.610511e+06</td>\n",
       "      <td>0.000000</td>\n",
       "      <td>0.000000</td>\n",
       "      <td>0.000000</td>\n",
       "      <td>0.000000</td>\n",
       "      <td>0.000000</td>\n",
       "      <td>1.0</td>\n",
       "      <td>1.0</td>\n",
       "      <td>1.0</td>\n",
       "      <td>1.0</td>\n",
       "      <td>1.0</td>\n",
       "      <td>-39600.000000</td>\n",
       "      <td>NaN</td>\n",
       "      <td>NaN</td>\n",
       "      <td>0.000000</td>\n",
       "    </tr>\n",
       "    <tr>\n",
       "      <th>25%</th>\n",
       "      <td>3.620867e+08</td>\n",
       "      <td>35.000000</td>\n",
       "      <td>17.000000</td>\n",
       "      <td>168.000000</td>\n",
       "      <td>0.000000</td>\n",
       "      <td>0.000000</td>\n",
       "      <td>1.0</td>\n",
       "      <td>1.0</td>\n",
       "      <td>1.0</td>\n",
       "      <td>1.0</td>\n",
       "      <td>1.0</td>\n",
       "      <td>3600.000000</td>\n",
       "      <td>NaN</td>\n",
       "      <td>NaN</td>\n",
       "      <td>0.000000</td>\n",
       "    </tr>\n",
       "    <tr>\n",
       "      <th>50%</th>\n",
       "      <td>6.162253e+08</td>\n",
       "      <td>77.000000</td>\n",
       "      <td>26.000000</td>\n",
       "      <td>306.000000</td>\n",
       "      <td>0.000000</td>\n",
       "      <td>0.000000</td>\n",
       "      <td>1.0</td>\n",
       "      <td>1.0</td>\n",
       "      <td>1.0</td>\n",
       "      <td>1.0</td>\n",
       "      <td>1.0</td>\n",
       "      <td>3600.000000</td>\n",
       "      <td>NaN</td>\n",
       "      <td>NaN</td>\n",
       "      <td>0.000000</td>\n",
       "    </tr>\n",
       "    <tr>\n",
       "      <th>75%</th>\n",
       "      <td>6.177673e+08</td>\n",
       "      <td>1087.750000</td>\n",
       "      <td>111.000000</td>\n",
       "      <td>519.000000</td>\n",
       "      <td>37.000000</td>\n",
       "      <td>1.000000</td>\n",
       "      <td>1.0</td>\n",
       "      <td>1.0</td>\n",
       "      <td>1.0</td>\n",
       "      <td>1.0</td>\n",
       "      <td>1.0</td>\n",
       "      <td>3600.000000</td>\n",
       "      <td>NaN</td>\n",
       "      <td>NaN</td>\n",
       "      <td>1.000000</td>\n",
       "    </tr>\n",
       "    <tr>\n",
       "      <th>max</th>\n",
       "      <td>1.391998e+09</td>\n",
       "      <td>79876.000000</td>\n",
       "      <td>408372.000000</td>\n",
       "      <td>12773.000000</td>\n",
       "      <td>44349.000000</td>\n",
       "      <td>744.000000</td>\n",
       "      <td>1.0</td>\n",
       "      <td>1.0</td>\n",
       "      <td>1.0</td>\n",
       "      <td>1.0</td>\n",
       "      <td>1.0</td>\n",
       "      <td>36000.000000</td>\n",
       "      <td>NaN</td>\n",
       "      <td>NaN</td>\n",
       "      <td>1.000000</td>\n",
       "    </tr>\n",
       "  </tbody>\n",
       "</table>\n",
       "</div>"
      ],
      "text/plain": [
       "                 id  statuses_count  followers_count  friends_count  \\\n",
       "count  2.818000e+03     2818.000000      2818.000000    2818.000000   \n",
       "mean   5.374889e+08     1672.198368       371.105039     395.363023   \n",
       "std    2.977005e+08     4884.669157      8022.631339     465.694322   \n",
       "min    3.610511e+06        0.000000         0.000000       0.000000   \n",
       "25%    3.620867e+08       35.000000        17.000000     168.000000   \n",
       "50%    6.162253e+08       77.000000        26.000000     306.000000   \n",
       "75%    6.177673e+08     1087.750000       111.000000     519.000000   \n",
       "max    1.391998e+09    79876.000000    408372.000000   12773.000000   \n",
       "\n",
       "       favourites_count  listed_count  default_profile  default_profile_image  \\\n",
       "count       2818.000000   2818.000000           1728.0                    8.0   \n",
       "mean         234.541164      2.818666              1.0                    1.0   \n",
       "std         1445.847248     23.480430              0.0                    0.0   \n",
       "min            0.000000      0.000000              1.0                    1.0   \n",
       "25%            0.000000      0.000000              1.0                    1.0   \n",
       "50%            0.000000      0.000000              1.0                    1.0   \n",
       "75%           37.000000      1.000000              1.0                    1.0   \n",
       "max        44349.000000    744.000000              1.0                    1.0   \n",
       "\n",
       "       geo_enabled  profile_use_background_image  profile_background_tile  \\\n",
       "count        721.0                        2760.0                    489.0   \n",
       "mean           1.0                           1.0                      1.0   \n",
       "std            0.0                           0.0                      0.0   \n",
       "min            1.0                           1.0                      1.0   \n",
       "25%            1.0                           1.0                      1.0   \n",
       "50%            1.0                           1.0                      1.0   \n",
       "75%            1.0                           1.0                      1.0   \n",
       "max            1.0                           1.0                      1.0   \n",
       "\n",
       "         utc_offset  protected  verified       isFake  \n",
       "count   1069.000000        0.0       0.0  2818.000000  \n",
       "mean    1478.391020        NaN       NaN     0.474450  \n",
       "std     8108.211889        NaN       NaN     0.499435  \n",
       "min   -39600.000000        NaN       NaN     0.000000  \n",
       "25%     3600.000000        NaN       NaN     0.000000  \n",
       "50%     3600.000000        NaN       NaN     0.000000  \n",
       "75%     3600.000000        NaN       NaN     1.000000  \n",
       "max    36000.000000        NaN       NaN     1.000000  "
      ]
     },
     "execution_count": 9,
     "metadata": {},
     "output_type": "execute_result"
    }
   ],
   "source": [
    "df_allUsers.describe()"
   ]
  },
  {
   "cell_type": "code",
   "execution_count": 10,
   "metadata": {},
   "outputs": [
    {
     "data": {
      "text/html": [
       "<div>\n",
       "<style scoped>\n",
       "    .dataframe tbody tr th:only-of-type {\n",
       "        vertical-align: middle;\n",
       "    }\n",
       "\n",
       "    .dataframe tbody tr th {\n",
       "        vertical-align: top;\n",
       "    }\n",
       "\n",
       "    .dataframe thead th {\n",
       "        text-align: right;\n",
       "    }\n",
       "</style>\n",
       "<table border=\"1\" class=\"dataframe\">\n",
       "  <thead>\n",
       "    <tr style=\"text-align: right;\">\n",
       "      <th></th>\n",
       "      <th>id</th>\n",
       "      <th>name</th>\n",
       "      <th>screen_name</th>\n",
       "      <th>statuses_count</th>\n",
       "      <th>followers_count</th>\n",
       "      <th>friends_count</th>\n",
       "      <th>favourites_count</th>\n",
       "      <th>listed_count</th>\n",
       "      <th>created_at</th>\n",
       "      <th>url</th>\n",
       "      <th>...</th>\n",
       "      <th>profile_background_image_url</th>\n",
       "      <th>profile_background_color</th>\n",
       "      <th>profile_link_color</th>\n",
       "      <th>utc_offset</th>\n",
       "      <th>protected</th>\n",
       "      <th>verified</th>\n",
       "      <th>description</th>\n",
       "      <th>updated</th>\n",
       "      <th>dataset</th>\n",
       "      <th>isFake</th>\n",
       "    </tr>\n",
       "  </thead>\n",
       "  <tbody>\n",
       "    <tr>\n",
       "      <th>0</th>\n",
       "      <td>617315471</td>\n",
       "      <td>Sherlene William</td>\n",
       "      <td>sherlenewill</td>\n",
       "      <td>59</td>\n",
       "      <td>22</td>\n",
       "      <td>540</td>\n",
       "      <td>0</td>\n",
       "      <td>0</td>\n",
       "      <td>Sun Jun 24 17:38:26 +0000 2012</td>\n",
       "      <td>NaN</td>\n",
       "      <td>...</td>\n",
       "      <td>http://a0.twimg.com/images/themes/theme1/bg.png</td>\n",
       "      <td>C0DEED</td>\n",
       "      <td>0084B4</td>\n",
       "      <td>NaN</td>\n",
       "      <td>NaN</td>\n",
       "      <td>NaN</td>\n",
       "      <td>My name is satyam . I am experienced in Wep Ap...</td>\n",
       "      <td>2015-02-14 10:40:01</td>\n",
       "      <td>INT</td>\n",
       "      <td>1.0</td>\n",
       "    </tr>\n",
       "    <tr>\n",
       "      <th>1</th>\n",
       "      <td>331312863</td>\n",
       "      <td>ILARIA</td>\n",
       "      <td>ilaria_33</td>\n",
       "      <td>998</td>\n",
       "      <td>328</td>\n",
       "      <td>1435</td>\n",
       "      <td>58</td>\n",
       "      <td>0</td>\n",
       "      <td>Fri Jul 08 00:08:42 +0000 2011</td>\n",
       "      <td>NaN</td>\n",
       "      <td>...</td>\n",
       "      <td>http://a0.twimg.com/images/themes/theme1/bg.png</td>\n",
       "      <td>C0DEED</td>\n",
       "      <td>0084B4</td>\n",
       "      <td>NaN</td>\n",
       "      <td>NaN</td>\n",
       "      <td>NaN</td>\n",
       "      <td>Certa di pochissime cose, sicura di tanti dubb...</td>\n",
       "      <td>2015-02-14 10:54:49</td>\n",
       "      <td>E13</td>\n",
       "      <td>0.0</td>\n",
       "    </tr>\n",
       "    <tr>\n",
       "      <th>2</th>\n",
       "      <td>299837277</td>\n",
       "      <td>Andrea Latino</td>\n",
       "      <td>andrealatino</td>\n",
       "      <td>3866</td>\n",
       "      <td>533</td>\n",
       "      <td>51</td>\n",
       "      <td>0</td>\n",
       "      <td>15</td>\n",
       "      <td>Mon May 16 19:18:30 +0000 2011</td>\n",
       "      <td>http://t.co/btA2R4ZdVq</td>\n",
       "      <td>...</td>\n",
       "      <td>http://a0.twimg.com/images/themes/theme14/bg.gif</td>\n",
       "      <td>EEEEEE</td>\n",
       "      <td>BC252C</td>\n",
       "      <td>3600.0</td>\n",
       "      <td>NaN</td>\n",
       "      <td>NaN</td>\n",
       "      <td>22. Global Shaper @WEF. Speaker @TEDxBathUni. ...</td>\n",
       "      <td>2015-02-14 10:54:49</td>\n",
       "      <td>E13</td>\n",
       "      <td>0.0</td>\n",
       "    </tr>\n",
       "    <tr>\n",
       "      <th>3</th>\n",
       "      <td>148536610</td>\n",
       "      <td>Maurizio Mucciola</td>\n",
       "      <td>maurizio_mwg</td>\n",
       "      <td>1063</td>\n",
       "      <td>88</td>\n",
       "      <td>228</td>\n",
       "      <td>35</td>\n",
       "      <td>1</td>\n",
       "      <td>Wed May 26 23:40:12 +0000 2010</td>\n",
       "      <td>http://www.flickr.com/photos/maurizio_mwg/sets/</td>\n",
       "      <td>...</td>\n",
       "      <td>http://a0.twimg.com/profile_background_images/...</td>\n",
       "      <td>EDECE9</td>\n",
       "      <td>BA2800</td>\n",
       "      <td>0.0</td>\n",
       "      <td>NaN</td>\n",
       "      <td>NaN</td>\n",
       "      <td>Architect at Kengo Kuma &amp; Associates</td>\n",
       "      <td>2015-02-14 10:54:49</td>\n",
       "      <td>E13</td>\n",
       "      <td>0.0</td>\n",
       "    </tr>\n",
       "    <tr>\n",
       "      <th>4</th>\n",
       "      <td>420995289</td>\n",
       "      <td>raffaele sarno</td>\n",
       "      <td>SarnoRaffaele</td>\n",
       "      <td>15324</td>\n",
       "      <td>301</td>\n",
       "      <td>2001</td>\n",
       "      <td>15749</td>\n",
       "      <td>1</td>\n",
       "      <td>Fri Nov 25 11:00:19 +0000 2011</td>\n",
       "      <td>NaN</td>\n",
       "      <td>...</td>\n",
       "      <td>http://a0.twimg.com/images/themes/theme7/bg.gif</td>\n",
       "      <td>EBEBEB</td>\n",
       "      <td>990000</td>\n",
       "      <td>3600.0</td>\n",
       "      <td>NaN</td>\n",
       "      <td>NaN</td>\n",
       "      <td>sono un ragazzo semplice un saluto  ciao</td>\n",
       "      <td>2015-02-14 10:54:49</td>\n",
       "      <td>E13</td>\n",
       "      <td>0.0</td>\n",
       "    </tr>\n",
       "  </tbody>\n",
       "</table>\n",
       "<p>5 rows × 35 columns</p>\n",
       "</div>"
      ],
      "text/plain": [
       "          id               name    screen_name  statuses_count  \\\n",
       "0  617315471   Sherlene William   sherlenewill              59   \n",
       "1  331312863            ILARIA       ilaria_33             998   \n",
       "2  299837277      Andrea Latino   andrealatino            3866   \n",
       "3  148536610  Maurizio Mucciola   maurizio_mwg            1063   \n",
       "4  420995289    raffaele sarno   SarnoRaffaele           15324   \n",
       "\n",
       "   followers_count  friends_count  favourites_count  listed_count  \\\n",
       "0               22            540                 0             0   \n",
       "1              328           1435                58             0   \n",
       "2              533             51                 0            15   \n",
       "3               88            228                35             1   \n",
       "4              301           2001             15749             1   \n",
       "\n",
       "                       created_at  \\\n",
       "0  Sun Jun 24 17:38:26 +0000 2012   \n",
       "1  Fri Jul 08 00:08:42 +0000 2011   \n",
       "2  Mon May 16 19:18:30 +0000 2011   \n",
       "3  Wed May 26 23:40:12 +0000 2010   \n",
       "4  Fri Nov 25 11:00:19 +0000 2011   \n",
       "\n",
       "                                               url  ...  \\\n",
       "0                                              NaN  ...   \n",
       "1                                              NaN  ...   \n",
       "2                           http://t.co/btA2R4ZdVq  ...   \n",
       "3  http://www.flickr.com/photos/maurizio_mwg/sets/  ...   \n",
       "4                                              NaN  ...   \n",
       "\n",
       "                        profile_background_image_url profile_background_color  \\\n",
       "0    http://a0.twimg.com/images/themes/theme1/bg.png                   C0DEED   \n",
       "1    http://a0.twimg.com/images/themes/theme1/bg.png                   C0DEED   \n",
       "2   http://a0.twimg.com/images/themes/theme14/bg.gif                   EEEEEE   \n",
       "3  http://a0.twimg.com/profile_background_images/...                   EDECE9   \n",
       "4    http://a0.twimg.com/images/themes/theme7/bg.gif                   EBEBEB   \n",
       "\n",
       "  profile_link_color  utc_offset  protected  verified  \\\n",
       "0             0084B4         NaN        NaN       NaN   \n",
       "1             0084B4         NaN        NaN       NaN   \n",
       "2             BC252C      3600.0        NaN       NaN   \n",
       "3             BA2800         0.0        NaN       NaN   \n",
       "4             990000      3600.0        NaN       NaN   \n",
       "\n",
       "                                         description              updated  \\\n",
       "0  My name is satyam . I am experienced in Wep Ap...  2015-02-14 10:40:01   \n",
       "1  Certa di pochissime cose, sicura di tanti dubb...  2015-02-14 10:54:49   \n",
       "2  22. Global Shaper @WEF. Speaker @TEDxBathUni. ...  2015-02-14 10:54:49   \n",
       "3               Architect at Kengo Kuma & Associates  2015-02-14 10:54:49   \n",
       "4          sono un ragazzo semplice un saluto  ciao   2015-02-14 10:54:49   \n",
       "\n",
       "   dataset isFake  \n",
       "0      INT    1.0  \n",
       "1      E13    0.0  \n",
       "2      E13    0.0  \n",
       "3      E13    0.0  \n",
       "4      E13    0.0  \n",
       "\n",
       "[5 rows x 35 columns]"
      ]
     },
     "execution_count": 10,
     "metadata": {},
     "output_type": "execute_result"
    }
   ],
   "source": [
    "df_allUsers.head()"
   ]
  },
  {
   "cell_type": "code",
   "execution_count": 11,
   "metadata": {},
   "outputs": [],
   "source": [
    "Y = df_allUsers.isFake"
   ]
  },
  {
   "cell_type": "code",
   "execution_count": 12,
   "metadata": {},
   "outputs": [],
   "source": [
    "df_allUsers.drop([\"isFake\"], axis=1, inplace=True)\n",
    "X = df_allUsers"
   ]
  },
  {
   "cell_type": "code",
   "execution_count": 13,
   "metadata": {},
   "outputs": [],
   "source": [
    "Y.reset_index(drop=True, inplace=True)"
   ]
  },
  {
   "cell_type": "code",
   "execution_count": 14,
   "metadata": {},
   "outputs": [
    {
     "name": "stdout",
     "output_type": "stream",
     "text": [
      "(2818,)\n"
     ]
    }
   ],
   "source": [
    "print(Y.shape)"
   ]
  },
  {
   "cell_type": "code",
   "execution_count": 15,
   "metadata": {},
   "outputs": [
    {
     "data": {
      "text/html": [
       "<div>\n",
       "<style scoped>\n",
       "    .dataframe tbody tr th:only-of-type {\n",
       "        vertical-align: middle;\n",
       "    }\n",
       "\n",
       "    .dataframe tbody tr th {\n",
       "        vertical-align: top;\n",
       "    }\n",
       "\n",
       "    .dataframe thead th {\n",
       "        text-align: right;\n",
       "    }\n",
       "</style>\n",
       "<table border=\"1\" class=\"dataframe\">\n",
       "  <thead>\n",
       "    <tr style=\"text-align: right;\">\n",
       "      <th></th>\n",
       "      <th>id</th>\n",
       "      <th>name</th>\n",
       "      <th>screen_name</th>\n",
       "      <th>statuses_count</th>\n",
       "      <th>followers_count</th>\n",
       "      <th>friends_count</th>\n",
       "      <th>favourites_count</th>\n",
       "      <th>listed_count</th>\n",
       "      <th>created_at</th>\n",
       "      <th>url</th>\n",
       "      <th>...</th>\n",
       "      <th>profile_sidebar_fill_color</th>\n",
       "      <th>profile_background_image_url</th>\n",
       "      <th>profile_background_color</th>\n",
       "      <th>profile_link_color</th>\n",
       "      <th>utc_offset</th>\n",
       "      <th>protected</th>\n",
       "      <th>verified</th>\n",
       "      <th>description</th>\n",
       "      <th>updated</th>\n",
       "      <th>dataset</th>\n",
       "    </tr>\n",
       "  </thead>\n",
       "  <tbody>\n",
       "    <tr>\n",
       "      <th>0</th>\n",
       "      <td>617315471</td>\n",
       "      <td>Sherlene William</td>\n",
       "      <td>sherlenewill</td>\n",
       "      <td>59</td>\n",
       "      <td>22</td>\n",
       "      <td>540</td>\n",
       "      <td>0</td>\n",
       "      <td>0</td>\n",
       "      <td>Sun Jun 24 17:38:26 +0000 2012</td>\n",
       "      <td>NaN</td>\n",
       "      <td>...</td>\n",
       "      <td>DDEEF6</td>\n",
       "      <td>http://a0.twimg.com/images/themes/theme1/bg.png</td>\n",
       "      <td>C0DEED</td>\n",
       "      <td>0084B4</td>\n",
       "      <td>NaN</td>\n",
       "      <td>NaN</td>\n",
       "      <td>NaN</td>\n",
       "      <td>My name is satyam . I am experienced in Wep Ap...</td>\n",
       "      <td>2015-02-14 10:40:01</td>\n",
       "      <td>INT</td>\n",
       "    </tr>\n",
       "    <tr>\n",
       "      <th>1</th>\n",
       "      <td>331312863</td>\n",
       "      <td>ILARIA</td>\n",
       "      <td>ilaria_33</td>\n",
       "      <td>998</td>\n",
       "      <td>328</td>\n",
       "      <td>1435</td>\n",
       "      <td>58</td>\n",
       "      <td>0</td>\n",
       "      <td>Fri Jul 08 00:08:42 +0000 2011</td>\n",
       "      <td>NaN</td>\n",
       "      <td>...</td>\n",
       "      <td>DDEEF6</td>\n",
       "      <td>http://a0.twimg.com/images/themes/theme1/bg.png</td>\n",
       "      <td>C0DEED</td>\n",
       "      <td>0084B4</td>\n",
       "      <td>NaN</td>\n",
       "      <td>NaN</td>\n",
       "      <td>NaN</td>\n",
       "      <td>Certa di pochissime cose, sicura di tanti dubb...</td>\n",
       "      <td>2015-02-14 10:54:49</td>\n",
       "      <td>E13</td>\n",
       "    </tr>\n",
       "    <tr>\n",
       "      <th>2</th>\n",
       "      <td>299837277</td>\n",
       "      <td>Andrea Latino</td>\n",
       "      <td>andrealatino</td>\n",
       "      <td>3866</td>\n",
       "      <td>533</td>\n",
       "      <td>51</td>\n",
       "      <td>0</td>\n",
       "      <td>15</td>\n",
       "      <td>Mon May 16 19:18:30 +0000 2011</td>\n",
       "      <td>http://t.co/btA2R4ZdVq</td>\n",
       "      <td>...</td>\n",
       "      <td>EFEFEF</td>\n",
       "      <td>http://a0.twimg.com/images/themes/theme14/bg.gif</td>\n",
       "      <td>EEEEEE</td>\n",
       "      <td>BC252C</td>\n",
       "      <td>3600.0</td>\n",
       "      <td>NaN</td>\n",
       "      <td>NaN</td>\n",
       "      <td>22. Global Shaper @WEF. Speaker @TEDxBathUni. ...</td>\n",
       "      <td>2015-02-14 10:54:49</td>\n",
       "      <td>E13</td>\n",
       "    </tr>\n",
       "    <tr>\n",
       "      <th>3</th>\n",
       "      <td>148536610</td>\n",
       "      <td>Maurizio Mucciola</td>\n",
       "      <td>maurizio_mwg</td>\n",
       "      <td>1063</td>\n",
       "      <td>88</td>\n",
       "      <td>228</td>\n",
       "      <td>35</td>\n",
       "      <td>1</td>\n",
       "      <td>Wed May 26 23:40:12 +0000 2010</td>\n",
       "      <td>http://www.flickr.com/photos/maurizio_mwg/sets/</td>\n",
       "      <td>...</td>\n",
       "      <td>E3E2DE</td>\n",
       "      <td>http://a0.twimg.com/profile_background_images/...</td>\n",
       "      <td>EDECE9</td>\n",
       "      <td>BA2800</td>\n",
       "      <td>0.0</td>\n",
       "      <td>NaN</td>\n",
       "      <td>NaN</td>\n",
       "      <td>Architect at Kengo Kuma &amp; Associates</td>\n",
       "      <td>2015-02-14 10:54:49</td>\n",
       "      <td>E13</td>\n",
       "    </tr>\n",
       "    <tr>\n",
       "      <th>4</th>\n",
       "      <td>420995289</td>\n",
       "      <td>raffaele sarno</td>\n",
       "      <td>SarnoRaffaele</td>\n",
       "      <td>15324</td>\n",
       "      <td>301</td>\n",
       "      <td>2001</td>\n",
       "      <td>15749</td>\n",
       "      <td>1</td>\n",
       "      <td>Fri Nov 25 11:00:19 +0000 2011</td>\n",
       "      <td>NaN</td>\n",
       "      <td>...</td>\n",
       "      <td>F3F3F3</td>\n",
       "      <td>http://a0.twimg.com/images/themes/theme7/bg.gif</td>\n",
       "      <td>EBEBEB</td>\n",
       "      <td>990000</td>\n",
       "      <td>3600.0</td>\n",
       "      <td>NaN</td>\n",
       "      <td>NaN</td>\n",
       "      <td>sono un ragazzo semplice un saluto  ciao</td>\n",
       "      <td>2015-02-14 10:54:49</td>\n",
       "      <td>E13</td>\n",
       "    </tr>\n",
       "  </tbody>\n",
       "</table>\n",
       "<p>5 rows × 34 columns</p>\n",
       "</div>"
      ],
      "text/plain": [
       "          id               name    screen_name  statuses_count  \\\n",
       "0  617315471   Sherlene William   sherlenewill              59   \n",
       "1  331312863            ILARIA       ilaria_33             998   \n",
       "2  299837277      Andrea Latino   andrealatino            3866   \n",
       "3  148536610  Maurizio Mucciola   maurizio_mwg            1063   \n",
       "4  420995289    raffaele sarno   SarnoRaffaele           15324   \n",
       "\n",
       "   followers_count  friends_count  favourites_count  listed_count  \\\n",
       "0               22            540                 0             0   \n",
       "1              328           1435                58             0   \n",
       "2              533             51                 0            15   \n",
       "3               88            228                35             1   \n",
       "4              301           2001             15749             1   \n",
       "\n",
       "                       created_at  \\\n",
       "0  Sun Jun 24 17:38:26 +0000 2012   \n",
       "1  Fri Jul 08 00:08:42 +0000 2011   \n",
       "2  Mon May 16 19:18:30 +0000 2011   \n",
       "3  Wed May 26 23:40:12 +0000 2010   \n",
       "4  Fri Nov 25 11:00:19 +0000 2011   \n",
       "\n",
       "                                               url  ...  \\\n",
       "0                                              NaN  ...   \n",
       "1                                              NaN  ...   \n",
       "2                           http://t.co/btA2R4ZdVq  ...   \n",
       "3  http://www.flickr.com/photos/maurizio_mwg/sets/  ...   \n",
       "4                                              NaN  ...   \n",
       "\n",
       "  profile_sidebar_fill_color  \\\n",
       "0                     DDEEF6   \n",
       "1                     DDEEF6   \n",
       "2                     EFEFEF   \n",
       "3                     E3E2DE   \n",
       "4                     F3F3F3   \n",
       "\n",
       "                        profile_background_image_url profile_background_color  \\\n",
       "0    http://a0.twimg.com/images/themes/theme1/bg.png                   C0DEED   \n",
       "1    http://a0.twimg.com/images/themes/theme1/bg.png                   C0DEED   \n",
       "2   http://a0.twimg.com/images/themes/theme14/bg.gif                   EEEEEE   \n",
       "3  http://a0.twimg.com/profile_background_images/...                   EDECE9   \n",
       "4    http://a0.twimg.com/images/themes/theme7/bg.gif                   EBEBEB   \n",
       "\n",
       "   profile_link_color  utc_offset  protected verified  \\\n",
       "0              0084B4         NaN        NaN      NaN   \n",
       "1              0084B4         NaN        NaN      NaN   \n",
       "2              BC252C      3600.0        NaN      NaN   \n",
       "3              BA2800         0.0        NaN      NaN   \n",
       "4              990000      3600.0        NaN      NaN   \n",
       "\n",
       "                                         description              updated  \\\n",
       "0  My name is satyam . I am experienced in Wep Ap...  2015-02-14 10:40:01   \n",
       "1  Certa di pochissime cose, sicura di tanti dubb...  2015-02-14 10:54:49   \n",
       "2  22. Global Shaper @WEF. Speaker @TEDxBathUni. ...  2015-02-14 10:54:49   \n",
       "3               Architect at Kengo Kuma & Associates  2015-02-14 10:54:49   \n",
       "4          sono un ragazzo semplice un saluto  ciao   2015-02-14 10:54:49   \n",
       "\n",
       "  dataset  \n",
       "0     INT  \n",
       "1     E13  \n",
       "2     E13  \n",
       "3     E13  \n",
       "4     E13  \n",
       "\n",
       "[5 rows x 34 columns]"
      ]
     },
     "execution_count": 15,
     "metadata": {},
     "output_type": "execute_result"
    }
   ],
   "source": [
    "X.head()"
   ]
  },
  {
   "cell_type": "code",
   "execution_count": 16,
   "metadata": {},
   "outputs": [],
   "source": [
    "lang_list = list(enumerate(np.unique(X[\"lang\"])))\n",
    "lang_dict = {name : i for i, name in lang_list}\n",
    "X.loc[:, \"lang_num\"] = X[\"lang\"].map(lambda x: lang_dict[x]).astype(int)\n",
    "\n",
    "X.drop([\"name\"], axis=1, inplace=True)"
   ]
  },
  {
   "cell_type": "code",
   "execution_count": 17,
   "metadata": {},
   "outputs": [],
   "source": [
    "X = X[[\n",
    "    \"statuses_count\",\n",
    "    \"followers_count\",\n",
    "    \"friends_count\",\n",
    "    \"favourites_count\",\n",
    "    \"lang_num\",\n",
    "    \"listed_count\",\n",
    "    \"geo_enabled\",\n",
    "    \"profile_use_background_image\"\n",
    "                        ]]"
   ]
  },
  {
   "cell_type": "code",
   "execution_count": 18,
   "metadata": {},
   "outputs": [],
   "source": [
    "profile = ProfileReport(X, title=\"Pandas Profiling Report\")\n"
   ]
  },
  {
   "cell_type": "code",
   "execution_count": 19,
   "metadata": {},
   "outputs": [],
   "source": [
    "X = X.replace(np.nan, 0) #To replace the missing boolean values with zeros as it means false"
   ]
  },
  {
   "cell_type": "code",
   "execution_count": 20,
   "metadata": {},
   "outputs": [],
   "source": [
    "profile = ProfileReport(X, title=\"Pandas Profiling Report\")\n"
   ]
  },
  {
   "cell_type": "code",
   "execution_count": 21,
   "metadata": {},
   "outputs": [],
   "source": [
    "train_X, test_X, train_y, test_y = train_test_split(X, Y, train_size=0.8, test_size=0.2, random_state=0)\n",
    "train_X, val_X, train_y, val_y = train_test_split(train_X, train_y, train_size=0.8, test_size=0.2, random_state=0)"
   ]
  },
  {
   "cell_type": "code",
   "execution_count": 22,
   "metadata": {},
   "outputs": [
    {
     "name": "stdout",
     "output_type": "stream",
     "text": [
      "(1803, 8)\n",
      "(564, 8)\n",
      "(1803,)\n",
      "(564,)\n"
     ]
    }
   ],
   "source": [
    "print(train_X.shape)\n",
    "print(test_X.shape)\n",
    "print(train_y.shape)\n",
    "print(test_y.shape)"
   ]
  },
  {
   "cell_type": "code",
   "execution_count": 23,
   "metadata": {},
   "outputs": [
    {
     "name": "stdout",
     "output_type": "stream",
     "text": [
      "Model: \"sequential\"\n",
      "_________________________________________________________________\n",
      " Layer (type)                Output Shape              Param #   \n",
      "=================================================================\n",
      " dense (Dense)               (None, 32)                288       \n",
      "                                                                 \n",
      " dense_1 (Dense)             (None, 64)                2112      \n",
      "                                                                 \n",
      " dense_2 (Dense)             (None, 64)                4160      \n",
      "                                                                 \n",
      " dense_3 (Dense)             (None, 32)                2080      \n",
      "                                                                 \n",
      " dense_4 (Dense)             (None, 1)                 33        \n",
      "                                                                 \n",
      "=================================================================\n",
      "Total params: 8,673\n",
      "Trainable params: 8,673\n",
      "Non-trainable params: 0\n",
      "_________________________________________________________________\n"
     ]
    }
   ],
   "source": [
    "model = Sequential()\n",
    "model.add(Dense(32, activation='relu', input_dim=8))\n",
    "model.add(Dense(64, input_dim=32, activation='relu'))\n",
    "model.add(Dense(64, input_dim=64, activation='relu'))\n",
    "model.add(Dense(32,input_dim=64, activation='relu'))\n",
    "model.add(Dense(1, activation='sigmoid'))\n",
    "model.summary()"
   ]
  },
  {
   "cell_type": "code",
   "execution_count": 24,
   "metadata": {},
   "outputs": [],
   "source": [
    "model.compile(optimizer='adam',\n",
    "              loss='binary_crossentropy',\n",
    "              metrics=['accuracy'])"
   ]
  },
  {
   "cell_type": "code",
   "execution_count": null,
   "metadata": {},
   "outputs": [],
   "source": []
  },
  {
   "cell_type": "code",
   "execution_count": 25,
   "metadata": {},
   "outputs": [
    {
     "name": "stdout",
     "output_type": "stream",
     "text": [
      "Epoch 1/15\n",
      "57/57 [==============================] - 4s 18ms/step - loss: 9.7833 - accuracy: 0.8708 - val_loss: 0.6173 - val_accuracy: 0.9845\n",
      "Epoch 2/15\n",
      "57/57 [==============================] - 1s 11ms/step - loss: 1.1488 - accuracy: 0.9861 - val_loss: 0.3706 - val_accuracy: 0.9889\n",
      "Epoch 3/15\n",
      "57/57 [==============================] - 0s 9ms/step - loss: 0.7010 - accuracy: 0.9872 - val_loss: 0.1944 - val_accuracy: 0.9911\n",
      "Epoch 4/15\n",
      "57/57 [==============================] - 0s 7ms/step - loss: 0.3980 - accuracy: 0.9861 - val_loss: 0.0590 - val_accuracy: 0.9889\n",
      "Epoch 5/15\n",
      "57/57 [==============================] - 0s 5ms/step - loss: 0.1603 - accuracy: 0.9856 - val_loss: 0.0375 - val_accuracy: 0.9867\n",
      "Epoch 6/15\n",
      "57/57 [==============================] - 0s 4ms/step - loss: 0.9422 - accuracy: 0.9767 - val_loss: 0.2030 - val_accuracy: 0.9867\n",
      "Epoch 7/15\n",
      "57/57 [==============================] - 0s 2ms/step - loss: 0.3058 - accuracy: 0.9889 - val_loss: 0.1116 - val_accuracy: 0.9778\n",
      "Epoch 8/15\n",
      "57/57 [==============================] - 0s 2ms/step - loss: 0.1289 - accuracy: 0.9806 - val_loss: 0.0242 - val_accuracy: 0.9889\n",
      "Epoch 9/15\n",
      "57/57 [==============================] - 0s 2ms/step - loss: 0.0614 - accuracy: 0.9900 - val_loss: 0.0217 - val_accuracy: 0.9933\n",
      "Epoch 10/15\n",
      "57/57 [==============================] - 0s 2ms/step - loss: 0.0394 - accuracy: 0.9928 - val_loss: 0.0197 - val_accuracy: 0.9978\n",
      "Epoch 11/15\n",
      "57/57 [==============================] - 0s 4ms/step - loss: 0.0398 - accuracy: 0.9950 - val_loss: 0.0193 - val_accuracy: 0.9933\n",
      "Epoch 12/15\n",
      "57/57 [==============================] - 0s 3ms/step - loss: 0.0368 - accuracy: 0.9928 - val_loss: 0.0172 - val_accuracy: 0.9978\n",
      "Epoch 13/15\n",
      "57/57 [==============================] - 0s 2ms/step - loss: 0.0412 - accuracy: 0.9928 - val_loss: 0.0175 - val_accuracy: 0.9956\n",
      "Epoch 14/15\n",
      "57/57 [==============================] - 0s 3ms/step - loss: 0.0322 - accuracy: 0.9933 - val_loss: 0.0193 - val_accuracy: 0.9911\n",
      "Epoch 15/15\n",
      "57/57 [==============================] - 0s 2ms/step - loss: 0.5357 - accuracy: 0.9878 - val_loss: 0.6238 - val_accuracy: 0.9911\n"
     ]
    }
   ],
   "source": [
    "history = model.fit(train_X, train_y,\n",
    "                    epochs=15,\n",
    "                    verbose=1,\n",
    "                    validation_data=(val_X,val_y))"
   ]
  },
  {
   "cell_type": "code",
   "execution_count": null,
   "metadata": {},
   "outputs": [],
   "source": []
  },
  {
   "cell_type": "code",
   "execution_count": 26,
   "metadata": {},
   "outputs": [
    {
     "name": "stdout",
     "output_type": "stream",
     "text": [
      "Test loss: 1.7512903213500977\n",
      "Test accuracy: 98.758864402771\n"
     ]
    }
   ],
   "source": [
    "score = model.evaluate(test_X, test_y, verbose=0)\n",
    "print('Test loss:', score[0])\n",
    "print('Test accuracy:', score[1]*100)\n",
    "\n",
    "file1 = open(\"resltnn.txt\",\"w\")#write mode\n",
    "file1.write(str(score[1]*100))\n",
    "file1.close()"
   ]
  },
  {
   "cell_type": "code",
   "execution_count": 27,
   "metadata": {},
   "outputs": [
    {
     "name": "stderr",
     "output_type": "stream",
     "text": [
      "C:\\Users\\MCA\\AppData\\Local\\Temp\\ipykernel_3472\\2318103684.py:16: UserWarning: Matplotlib is currently using agg, which is a non-GUI backend, so cannot show the figure.\n",
      "  plt.show()\n"
     ]
    }
   ],
   "source": [
    "# Plot training and validation accuracy values\n",
    "plt.plot(history.history['accuracy'])\n",
    "plt.plot(history.history['val_accuracy'])\n",
    "plt.title('Model accuracy')\n",
    "plt.ylabel('Accuracy')\n",
    "plt.xlabel('Epoch')\n",
    "axes = plt.gca()\n",
    "axes.set_xlim([0,14])\n",
    "axes.set_ylim([0.85,1])\n",
    "axes.grid(True, which='both')\n",
    "axes.axhline(y=0.85, color='k')\n",
    "axes.axvline(x=0, color='k')\n",
    "axes.axvline(x=14, color='k')\n",
    "axes.axhline(y=1, color='k')\n",
    "plt.legend(['Train','Val'], loc='lower right')\n",
    "plt.show()"
   ]
  },
  {
   "cell_type": "code",
   "execution_count": 28,
   "metadata": {},
   "outputs": [
    {
     "name": "stderr",
     "output_type": "stream",
     "text": [
      "C:\\Users\\MCA\\AppData\\Local\\Temp\\ipykernel_3472\\2592424667.py:16: UserWarning: Matplotlib is currently using agg, which is a non-GUI backend, so cannot show the figure.\n",
      "  plt.show()\n"
     ]
    }
   ],
   "source": [
    "# Plot training and validation loss values\n",
    "plt.plot(history.history['loss'])\n",
    "plt.plot(history.history['val_loss'])\n",
    "plt.title('Model loss')\n",
    "plt.ylabel('Loss')\n",
    "plt.xlabel('Epoch')\n",
    "axes = plt.gca()\n",
    "axes.set_xlim([0,14])\n",
    "axes.set_ylim([0,5])\n",
    "axes.grid(True, which='both')\n",
    "axes.axhline(y=0, color='k')\n",
    "axes.axvline(x=0, color='k')\n",
    "axes.axhline(y=5, color='k')\n",
    "axes.axvline(x=14, color='k')\n",
    "plt.legend(['Train','Val'], loc='upper right')\n",
    "plt.show()"
   ]
  },
  {
   "cell_type": "code",
   "execution_count": 29,
   "metadata": {},
   "outputs": [
    {
     "name": "stdout",
     "output_type": "stream",
     "text": [
      "\n",
      "Thresholded output\n",
      " [1]\n"
     ]
    }
   ],
   "source": [
    "# Write the index of the test sample to test\n",
    "prediction = model.predict(test_X[136:137])\n",
    "prediction = prediction[0]\n",
    "\n",
    "print('\\nThresholded output\\n',(prediction>0.5)*1)"
   ]
  },
  {
   "cell_type": "code",
   "execution_count": 30,
   "metadata": {},
   "outputs": [
    {
     "name": "stdout",
     "output_type": "stream",
     "text": [
      "953    1.0\n",
      "Name: isFake, dtype: float64\n"
     ]
    }
   ],
   "source": [
    "print(test_y[136:137])"
   ]
  },
  {
   "cell_type": "code",
   "execution_count": 31,
   "metadata": {},
   "outputs": [
    {
     "name": "stdout",
     "output_type": "stream",
     "text": [
      "Saved model to disk\n"
     ]
    }
   ],
   "source": [
    "# serialize model to JSON\n",
    "model_json = model.to_json()\n",
    "\n",
    "# Write the file name of the model\n",
    "\n",
    "with open(\"model.json\", \"w\") as json_file:\n",
    "    json_file.write(model_json)\n",
    "    \n",
    "# serialize weights to HDF5\n",
    "# Write the file name of the weights\n",
    "\n",
    "model.save_weights(\"model.h5\")\n",
    "print(\"Saved model to disk\")"
   ]
  },
  {
   "cell_type": "code",
   "execution_count": 32,
   "metadata": {},
   "outputs": [
    {
     "name": "stdout",
     "output_type": "stream",
     "text": [
      "Loaded model from disk\n"
     ]
    }
   ],
   "source": [
    "# load json and create model\n",
    "\n",
    "# Write the file name of the model\n",
    "\n",
    "json_file = open('model.json', 'r')\n",
    "loaded_model_json = json_file.read()\n",
    "json_file.close()\n",
    "loaded_model = model_from_json(loaded_model_json)\n",
    "\n",
    "# load weights into new model\n",
    "# Write the file name of the weights\n",
    "\n",
    "loaded_model.load_weights(\"model.h5\")\n",
    "print(\"Loaded model from disk\")"
   ]
  },
  {
   "cell_type": "code",
   "execution_count": 33,
   "metadata": {},
   "outputs": [],
   "source": [
    "# create an iterator object with write permission - model.pkl\n",
    "with open('model_picklenn.pkl', 'wb') as f:\n",
    "    # save the model to disk\n",
    "    model_pickle = 'model_picklenn.pkl'\n",
    "    pickle.dump(model_pickle, f)"
   ]
  }
 ],
 "metadata": {
  "interpreter": {
   "hash": "01f6bc613302fe19c55455817d4d94b61f3562e111a7cd385e479c85098bd8b0"
  },
  "kernelspec": {
   "display_name": "Python 3.10.4 64-bit",
   "language": "python",
   "name": "python3"
  },
  "language_info": {
   "codemirror_mode": {
    "name": "ipython",
    "version": 3
   },
   "file_extension": ".py",
   "mimetype": "text/x-python",
   "name": "python",
   "nbconvert_exporter": "python",
   "pygments_lexer": "ipython3",
   "version": "3.10.4"
  },
  "orig_nbformat": 4
 },
 "nbformat": 4,
 "nbformat_minor": 2
}
